{
 "cells": [
  {
   "cell_type": "code",
   "execution_count": 1,
   "metadata": {
    "ExecuteTime": {
     "end_time": "2018-03-02T10:01:02.667435Z",
     "start_time": "2018-03-02T10:01:01.191637Z"
    },
    "collapsed": true,
    "extensions": {
     "jupyter_dashboards": {
      "version": 1,
      "views": {
       "grid_default": {
        "hidden": true
       },
       "report_default": {}
      }
     }
    }
   },
   "outputs": [],
   "source": [
    "import numpy as np\n",
    "import pandas as pd\n",
    "import pylab as pl\n",
    "from sklearn import tree\n",
    "from sklearn import datasets\n",
    "from sklearn.model_selection import GridSearchCV\n",
    "\n",
    "%matplotlib inline"
   ]
  },
  {
   "cell_type": "markdown",
   "metadata": {},
   "source": [
    "# Load the legendary libG"
   ]
  },
  {
   "cell_type": "code",
   "execution_count": 2,
   "metadata": {
    "ExecuteTime": {
     "end_time": "2018-03-02T10:01:05.383402Z",
     "start_time": "2018-03-02T10:01:05.368660Z"
    },
    "collapsed": true,
    "extensions": {
     "jupyter_dashboards": {
      "version": 1,
      "views": {
       "grid_default": {
        "hidden": true
       },
       "report_default": {}
      }
     }
    }
   },
   "outputs": [],
   "source": [
    "import sys\n",
    "sys.path.append('/home/daniel/Projekte/Snippets/snippetlibrary/src/')\n",
    "sys.path.append('/home/daniel/Projekte/Snippets/snippetlibrary/src/libG/')"
   ]
  },
  {
   "cell_type": "code",
   "execution_count": 3,
   "metadata": {
    "ExecuteTime": {
     "end_time": "2018-03-02T10:01:06.900170Z",
     "start_time": "2018-03-02T10:01:06.508859Z"
    }
   },
   "outputs": [
    {
     "data": {
      "text/html": [
       "\n",
       "    <div class=\"bk-root\">\n",
       "        <a href=\"https://bokeh.pydata.org\" target=\"_blank\" class=\"bk-logo bk-logo-small bk-logo-notebook\"></a>\n",
       "        <span id=\"114854e2-3060-4748-8eb2-d8c69c7f6366\">Loading BokehJS ...</span>\n",
       "    </div>"
      ]
     },
     "metadata": {},
     "output_type": "display_data"
    },
    {
     "data": {
      "application/javascript": [
       "\n",
       "(function(root) {\n",
       "  function now() {\n",
       "    return new Date();\n",
       "  }\n",
       "\n",
       "  var force = true;\n",
       "\n",
       "  if (typeof (root._bokeh_onload_callbacks) === \"undefined\" || force === true) {\n",
       "    root._bokeh_onload_callbacks = [];\n",
       "    root._bokeh_is_loading = undefined;\n",
       "  }\n",
       "\n",
       "  var JS_MIME_TYPE = 'application/javascript';\n",
       "  var HTML_MIME_TYPE = 'text/html';\n",
       "  var EXEC_MIME_TYPE = 'application/vnd.bokehjs_exec.v0+json';\n",
       "  var CLASS_NAME = 'output_bokeh rendered_html';\n",
       "\n",
       "  /**\n",
       "   * Render data to the DOM node\n",
       "   */\n",
       "  function render(props, node) {\n",
       "    var script = document.createElement(\"script\");\n",
       "    node.appendChild(script);\n",
       "  }\n",
       "\n",
       "  /**\n",
       "   * Handle when an output is cleared or removed\n",
       "   */\n",
       "  function handleClearOutput(event, handle) {\n",
       "    var cell = handle.cell;\n",
       "\n",
       "    var id = cell.output_area._bokeh_element_id;\n",
       "    var server_id = cell.output_area._bokeh_server_id;\n",
       "    // Clean up Bokeh references\n",
       "    if (id !== undefined) {\n",
       "      Bokeh.index[id].model.document.clear();\n",
       "      delete Bokeh.index[id];\n",
       "    }\n",
       "\n",
       "    if (server_id !== undefined) {\n",
       "      // Clean up Bokeh references\n",
       "      var cmd = \"from bokeh.io.state import curstate; print(curstate().uuid_to_server['\" + server_id + \"'].get_sessions()[0].document.roots[0]._id)\";\n",
       "      cell.notebook.kernel.execute(cmd, {\n",
       "        iopub: {\n",
       "          output: function(msg) {\n",
       "            var element_id = msg.content.text.trim();\n",
       "            Bokeh.index[element_id].model.document.clear();\n",
       "            delete Bokeh.index[element_id];\n",
       "          }\n",
       "        }\n",
       "      });\n",
       "      // Destroy server and session\n",
       "      var cmd = \"import bokeh.io.notebook as ion; ion.destroy_server('\" + server_id + \"')\";\n",
       "      cell.notebook.kernel.execute(cmd);\n",
       "    }\n",
       "  }\n",
       "\n",
       "  /**\n",
       "   * Handle when a new output is added\n",
       "   */\n",
       "  function handleAddOutput(event, handle) {\n",
       "    var output_area = handle.output_area;\n",
       "    var output = handle.output;\n",
       "\n",
       "    // limit handleAddOutput to display_data with EXEC_MIME_TYPE content only\n",
       "    if ((output.output_type != \"display_data\") || (!output.data.hasOwnProperty(EXEC_MIME_TYPE))) {\n",
       "      return\n",
       "    }\n",
       "\n",
       "    var toinsert = output_area.element.find(`.${CLASS_NAME.split(' ')[0]}`);\n",
       "\n",
       "    if (output.metadata[EXEC_MIME_TYPE][\"id\"] !== undefined) {\n",
       "      toinsert[0].firstChild.textContent = output.data[JS_MIME_TYPE];\n",
       "      // store reference to embed id on output_area\n",
       "      output_area._bokeh_element_id = output.metadata[EXEC_MIME_TYPE][\"id\"];\n",
       "    }\n",
       "    if (output.metadata[EXEC_MIME_TYPE][\"server_id\"] !== undefined) {\n",
       "      var bk_div = document.createElement(\"div\");\n",
       "      bk_div.innerHTML = output.data[HTML_MIME_TYPE];\n",
       "      var script_attrs = bk_div.children[0].attributes;\n",
       "      for (var i = 0; i < script_attrs.length; i++) {\n",
       "        toinsert[0].firstChild.setAttribute(script_attrs[i].name, script_attrs[i].value);\n",
       "      }\n",
       "      // store reference to server id on output_area\n",
       "      output_area._bokeh_server_id = output.metadata[EXEC_MIME_TYPE][\"server_id\"];\n",
       "    }\n",
       "  }\n",
       "\n",
       "  function register_renderer(events, OutputArea) {\n",
       "\n",
       "    function append_mime(data, metadata, element) {\n",
       "      // create a DOM node to render to\n",
       "      var toinsert = this.create_output_subarea(\n",
       "        metadata,\n",
       "        CLASS_NAME,\n",
       "        EXEC_MIME_TYPE\n",
       "      );\n",
       "      this.keyboard_manager.register_events(toinsert);\n",
       "      // Render to node\n",
       "      var props = {data: data, metadata: metadata[EXEC_MIME_TYPE]};\n",
       "      render(props, toinsert[0]);\n",
       "      element.append(toinsert);\n",
       "      return toinsert\n",
       "    }\n",
       "\n",
       "    /* Handle when an output is cleared or removed */\n",
       "    events.on('clear_output.CodeCell', handleClearOutput);\n",
       "    events.on('delete.Cell', handleClearOutput);\n",
       "\n",
       "    /* Handle when a new output is added */\n",
       "    events.on('output_added.OutputArea', handleAddOutput);\n",
       "\n",
       "    /**\n",
       "     * Register the mime type and append_mime function with output_area\n",
       "     */\n",
       "    OutputArea.prototype.register_mime_type(EXEC_MIME_TYPE, append_mime, {\n",
       "      /* Is output safe? */\n",
       "      safe: true,\n",
       "      /* Index of renderer in `output_area.display_order` */\n",
       "      index: 0\n",
       "    });\n",
       "  }\n",
       "\n",
       "  // register the mime type if in Jupyter Notebook environment and previously unregistered\n",
       "  if (root.Jupyter !== undefined) {\n",
       "    var events = require('base/js/events');\n",
       "    var OutputArea = require('notebook/js/outputarea').OutputArea;\n",
       "\n",
       "    if (OutputArea.prototype.mime_types().indexOf(EXEC_MIME_TYPE) == -1) {\n",
       "      register_renderer(events, OutputArea);\n",
       "    }\n",
       "  }\n",
       "\n",
       "  \n",
       "  if (typeof (root._bokeh_timeout) === \"undefined\" || force === true) {\n",
       "    root._bokeh_timeout = Date.now() + 5000;\n",
       "    root._bokeh_failed_load = false;\n",
       "  }\n",
       "\n",
       "  var NB_LOAD_WARNING = {'data': {'text/html':\n",
       "     \"<div style='background-color: #fdd'>\\n\"+\n",
       "     \"<p>\\n\"+\n",
       "     \"BokehJS does not appear to have successfully loaded. If loading BokehJS from CDN, this \\n\"+\n",
       "     \"may be due to a slow or bad network connection. Possible fixes:\\n\"+\n",
       "     \"</p>\\n\"+\n",
       "     \"<ul>\\n\"+\n",
       "     \"<li>re-rerun `output_notebook()` to attempt to load from CDN again, or</li>\\n\"+\n",
       "     \"<li>use INLINE resources instead, as so:</li>\\n\"+\n",
       "     \"</ul>\\n\"+\n",
       "     \"<code>\\n\"+\n",
       "     \"from bokeh.resources import INLINE\\n\"+\n",
       "     \"output_notebook(resources=INLINE)\\n\"+\n",
       "     \"</code>\\n\"+\n",
       "     \"</div>\"}};\n",
       "\n",
       "  function display_loaded() {\n",
       "    var el = document.getElementById(\"114854e2-3060-4748-8eb2-d8c69c7f6366\");\n",
       "    if (el != null) {\n",
       "      el.textContent = \"BokehJS is loading...\";\n",
       "    }\n",
       "    if (root.Bokeh !== undefined) {\n",
       "      if (el != null) {\n",
       "        el.textContent = \"BokehJS \" + root.Bokeh.version + \" successfully loaded.\";\n",
       "      }\n",
       "    } else if (Date.now() < root._bokeh_timeout) {\n",
       "      setTimeout(display_loaded, 100)\n",
       "    }\n",
       "  }\n",
       "\n",
       "\n",
       "  function run_callbacks() {\n",
       "    try {\n",
       "      root._bokeh_onload_callbacks.forEach(function(callback) { callback() });\n",
       "    }\n",
       "    finally {\n",
       "      delete root._bokeh_onload_callbacks\n",
       "    }\n",
       "    console.info(\"Bokeh: all callbacks have finished\");\n",
       "  }\n",
       "\n",
       "  function load_libs(js_urls, callback) {\n",
       "    root._bokeh_onload_callbacks.push(callback);\n",
       "    if (root._bokeh_is_loading > 0) {\n",
       "      console.log(\"Bokeh: BokehJS is being loaded, scheduling callback at\", now());\n",
       "      return null;\n",
       "    }\n",
       "    if (js_urls == null || js_urls.length === 0) {\n",
       "      run_callbacks();\n",
       "      return null;\n",
       "    }\n",
       "    console.log(\"Bokeh: BokehJS not loaded, scheduling load and callback at\", now());\n",
       "    root._bokeh_is_loading = js_urls.length;\n",
       "    for (var i = 0; i < js_urls.length; i++) {\n",
       "      var url = js_urls[i];\n",
       "      var s = document.createElement('script');\n",
       "      s.src = url;\n",
       "      s.async = false;\n",
       "      s.onreadystatechange = s.onload = function() {\n",
       "        root._bokeh_is_loading--;\n",
       "        if (root._bokeh_is_loading === 0) {\n",
       "          console.log(\"Bokeh: all BokehJS libraries loaded\");\n",
       "          run_callbacks()\n",
       "        }\n",
       "      };\n",
       "      s.onerror = function() {\n",
       "        console.warn(\"failed to load library \" + url);\n",
       "      };\n",
       "      console.log(\"Bokeh: injecting script tag for BokehJS library: \", url);\n",
       "      document.getElementsByTagName(\"head\")[0].appendChild(s);\n",
       "    }\n",
       "  };var element = document.getElementById(\"114854e2-3060-4748-8eb2-d8c69c7f6366\");\n",
       "  if (element == null) {\n",
       "    console.log(\"Bokeh: ERROR: autoload.js configured with elementid '114854e2-3060-4748-8eb2-d8c69c7f6366' but no matching script tag was found. \")\n",
       "    return false;\n",
       "  }\n",
       "\n",
       "  var js_urls = [\"https://cdn.pydata.org/bokeh/release/bokeh-0.12.10.min.js\", \"https://cdn.pydata.org/bokeh/release/bokeh-widgets-0.12.10.min.js\", \"https://cdn.pydata.org/bokeh/release/bokeh-tables-0.12.10.min.js\", \"https://cdn.pydata.org/bokeh/release/bokeh-gl-0.12.10.min.js\"];\n",
       "\n",
       "  var inline_js = [\n",
       "    function(Bokeh) {\n",
       "      Bokeh.set_log_level(\"info\");\n",
       "    },\n",
       "    \n",
       "    function(Bokeh) {\n",
       "      \n",
       "    },\n",
       "    function(Bokeh) {\n",
       "      console.log(\"Bokeh: injecting CSS: https://cdn.pydata.org/bokeh/release/bokeh-0.12.10.min.css\");\n",
       "      Bokeh.embed.inject_css(\"https://cdn.pydata.org/bokeh/release/bokeh-0.12.10.min.css\");\n",
       "      console.log(\"Bokeh: injecting CSS: https://cdn.pydata.org/bokeh/release/bokeh-widgets-0.12.10.min.css\");\n",
       "      Bokeh.embed.inject_css(\"https://cdn.pydata.org/bokeh/release/bokeh-widgets-0.12.10.min.css\");\n",
       "      console.log(\"Bokeh: injecting CSS: https://cdn.pydata.org/bokeh/release/bokeh-tables-0.12.10.min.css\");\n",
       "      Bokeh.embed.inject_css(\"https://cdn.pydata.org/bokeh/release/bokeh-tables-0.12.10.min.css\");\n",
       "    }\n",
       "  ];\n",
       "\n",
       "  function run_inline_js() {\n",
       "    \n",
       "    if ((root.Bokeh !== undefined) || (force === true)) {\n",
       "      for (var i = 0; i < inline_js.length; i++) {\n",
       "        inline_js[i].call(root, root.Bokeh);\n",
       "      }if (force === true) {\n",
       "        display_loaded();\n",
       "      }} else if (Date.now() < root._bokeh_timeout) {\n",
       "      setTimeout(run_inline_js, 100);\n",
       "    } else if (!root._bokeh_failed_load) {\n",
       "      console.log(\"Bokeh: BokehJS failed to load within specified timeout.\");\n",
       "      root._bokeh_failed_load = true;\n",
       "    } else if (force !== true) {\n",
       "      var cell = $(document.getElementById(\"114854e2-3060-4748-8eb2-d8c69c7f6366\")).parents('.cell').data().cell;\n",
       "      cell.output_area.append_execute_result(NB_LOAD_WARNING)\n",
       "    }\n",
       "\n",
       "  }\n",
       "\n",
       "  if (root._bokeh_is_loading === 0) {\n",
       "    console.log(\"Bokeh: BokehJS loaded, going straight to plotting\");\n",
       "    run_inline_js();\n",
       "  } else {\n",
       "    load_libs(js_urls, function() {\n",
       "      console.log(\"Bokeh: BokehJS plotting callback run at\", now());\n",
       "      run_inline_js();\n",
       "    });\n",
       "  }\n",
       "}(window));"
      ],
      "application/vnd.bokehjs_load.v0+json": "\n(function(root) {\n  function now() {\n    return new Date();\n  }\n\n  var force = true;\n\n  if (typeof (root._bokeh_onload_callbacks) === \"undefined\" || force === true) {\n    root._bokeh_onload_callbacks = [];\n    root._bokeh_is_loading = undefined;\n  }\n\n  \n\n  \n  if (typeof (root._bokeh_timeout) === \"undefined\" || force === true) {\n    root._bokeh_timeout = Date.now() + 5000;\n    root._bokeh_failed_load = false;\n  }\n\n  var NB_LOAD_WARNING = {'data': {'text/html':\n     \"<div style='background-color: #fdd'>\\n\"+\n     \"<p>\\n\"+\n     \"BokehJS does not appear to have successfully loaded. If loading BokehJS from CDN, this \\n\"+\n     \"may be due to a slow or bad network connection. Possible fixes:\\n\"+\n     \"</p>\\n\"+\n     \"<ul>\\n\"+\n     \"<li>re-rerun `output_notebook()` to attempt to load from CDN again, or</li>\\n\"+\n     \"<li>use INLINE resources instead, as so:</li>\\n\"+\n     \"</ul>\\n\"+\n     \"<code>\\n\"+\n     \"from bokeh.resources import INLINE\\n\"+\n     \"output_notebook(resources=INLINE)\\n\"+\n     \"</code>\\n\"+\n     \"</div>\"}};\n\n  function display_loaded() {\n    var el = document.getElementById(\"114854e2-3060-4748-8eb2-d8c69c7f6366\");\n    if (el != null) {\n      el.textContent = \"BokehJS is loading...\";\n    }\n    if (root.Bokeh !== undefined) {\n      if (el != null) {\n        el.textContent = \"BokehJS \" + root.Bokeh.version + \" successfully loaded.\";\n      }\n    } else if (Date.now() < root._bokeh_timeout) {\n      setTimeout(display_loaded, 100)\n    }\n  }\n\n\n  function run_callbacks() {\n    try {\n      root._bokeh_onload_callbacks.forEach(function(callback) { callback() });\n    }\n    finally {\n      delete root._bokeh_onload_callbacks\n    }\n    console.info(\"Bokeh: all callbacks have finished\");\n  }\n\n  function load_libs(js_urls, callback) {\n    root._bokeh_onload_callbacks.push(callback);\n    if (root._bokeh_is_loading > 0) {\n      console.log(\"Bokeh: BokehJS is being loaded, scheduling callback at\", now());\n      return null;\n    }\n    if (js_urls == null || js_urls.length === 0) {\n      run_callbacks();\n      return null;\n    }\n    console.log(\"Bokeh: BokehJS not loaded, scheduling load and callback at\", now());\n    root._bokeh_is_loading = js_urls.length;\n    for (var i = 0; i < js_urls.length; i++) {\n      var url = js_urls[i];\n      var s = document.createElement('script');\n      s.src = url;\n      s.async = false;\n      s.onreadystatechange = s.onload = function() {\n        root._bokeh_is_loading--;\n        if (root._bokeh_is_loading === 0) {\n          console.log(\"Bokeh: all BokehJS libraries loaded\");\n          run_callbacks()\n        }\n      };\n      s.onerror = function() {\n        console.warn(\"failed to load library \" + url);\n      };\n      console.log(\"Bokeh: injecting script tag for BokehJS library: \", url);\n      document.getElementsByTagName(\"head\")[0].appendChild(s);\n    }\n  };var element = document.getElementById(\"114854e2-3060-4748-8eb2-d8c69c7f6366\");\n  if (element == null) {\n    console.log(\"Bokeh: ERROR: autoload.js configured with elementid '114854e2-3060-4748-8eb2-d8c69c7f6366' but no matching script tag was found. \")\n    return false;\n  }\n\n  var js_urls = [\"https://cdn.pydata.org/bokeh/release/bokeh-0.12.10.min.js\", \"https://cdn.pydata.org/bokeh/release/bokeh-widgets-0.12.10.min.js\", \"https://cdn.pydata.org/bokeh/release/bokeh-tables-0.12.10.min.js\", \"https://cdn.pydata.org/bokeh/release/bokeh-gl-0.12.10.min.js\"];\n\n  var inline_js = [\n    function(Bokeh) {\n      Bokeh.set_log_level(\"info\");\n    },\n    \n    function(Bokeh) {\n      \n    },\n    function(Bokeh) {\n      console.log(\"Bokeh: injecting CSS: https://cdn.pydata.org/bokeh/release/bokeh-0.12.10.min.css\");\n      Bokeh.embed.inject_css(\"https://cdn.pydata.org/bokeh/release/bokeh-0.12.10.min.css\");\n      console.log(\"Bokeh: injecting CSS: https://cdn.pydata.org/bokeh/release/bokeh-widgets-0.12.10.min.css\");\n      Bokeh.embed.inject_css(\"https://cdn.pydata.org/bokeh/release/bokeh-widgets-0.12.10.min.css\");\n      console.log(\"Bokeh: injecting CSS: https://cdn.pydata.org/bokeh/release/bokeh-tables-0.12.10.min.css\");\n      Bokeh.embed.inject_css(\"https://cdn.pydata.org/bokeh/release/bokeh-tables-0.12.10.min.css\");\n    }\n  ];\n\n  function run_inline_js() {\n    \n    if ((root.Bokeh !== undefined) || (force === true)) {\n      for (var i = 0; i < inline_js.length; i++) {\n        inline_js[i].call(root, root.Bokeh);\n      }if (force === true) {\n        display_loaded();\n      }} else if (Date.now() < root._bokeh_timeout) {\n      setTimeout(run_inline_js, 100);\n    } else if (!root._bokeh_failed_load) {\n      console.log(\"Bokeh: BokehJS failed to load within specified timeout.\");\n      root._bokeh_failed_load = true;\n    } else if (force !== true) {\n      var cell = $(document.getElementById(\"114854e2-3060-4748-8eb2-d8c69c7f6366\")).parents('.cell').data().cell;\n      cell.output_area.append_execute_result(NB_LOAD_WARNING)\n    }\n\n  }\n\n  if (root._bokeh_is_loading === 0) {\n    console.log(\"Bokeh: BokehJS loaded, going straight to plotting\");\n    run_inline_js();\n  } else {\n    load_libs(js_urls, function() {\n      console.log(\"Bokeh: BokehJS plotting callback run at\", now());\n      run_inline_js();\n    });\n  }\n}(window));"
     },
     "metadata": {},
     "output_type": "display_data"
    }
   ],
   "source": [
    "import libG"
   ]
  },
  {
   "cell_type": "markdown",
   "metadata": {},
   "source": [
    "# Read in some example data"
   ]
  },
  {
   "cell_type": "code",
   "execution_count": 6,
   "metadata": {
    "ExecuteTime": {
     "end_time": "2018-03-02T10:03:36.962461Z",
     "start_time": "2018-03-02T10:03:36.882439Z"
    }
   },
   "outputs": [
    {
     "data": {
      "text/html": [
       "<div>\n",
       "<style>\n",
       "    .dataframe thead tr:only-child th {\n",
       "        text-align: right;\n",
       "    }\n",
       "\n",
       "    .dataframe thead th {\n",
       "        text-align: left;\n",
       "    }\n",
       "\n",
       "    .dataframe tbody tr th {\n",
       "        vertical-align: top;\n",
       "    }\n",
       "</style>\n",
       "<table border=\"1\" class=\"dataframe\">\n",
       "  <thead>\n",
       "    <tr style=\"text-align: right;\">\n",
       "      <th></th>\n",
       "      <th>sepal_length</th>\n",
       "      <th>sepal_width</th>\n",
       "      <th>petal_length</th>\n",
       "      <th>petal_width</th>\n",
       "      <th>Species</th>\n",
       "    </tr>\n",
       "  </thead>\n",
       "  <tbody>\n",
       "    <tr>\n",
       "      <th>0</th>\n",
       "      <td>5.1</td>\n",
       "      <td>3.5</td>\n",
       "      <td>1.4</td>\n",
       "      <td>0.2</td>\n",
       "      <td>setosa</td>\n",
       "    </tr>\n",
       "    <tr>\n",
       "      <th>1</th>\n",
       "      <td>4.9</td>\n",
       "      <td>3.0</td>\n",
       "      <td>1.4</td>\n",
       "      <td>0.2</td>\n",
       "      <td>setosa</td>\n",
       "    </tr>\n",
       "    <tr>\n",
       "      <th>2</th>\n",
       "      <td>4.7</td>\n",
       "      <td>3.2</td>\n",
       "      <td>1.3</td>\n",
       "      <td>0.2</td>\n",
       "      <td>setosa</td>\n",
       "    </tr>\n",
       "    <tr>\n",
       "      <th>3</th>\n",
       "      <td>4.6</td>\n",
       "      <td>3.1</td>\n",
       "      <td>1.5</td>\n",
       "      <td>0.2</td>\n",
       "      <td>setosa</td>\n",
       "    </tr>\n",
       "    <tr>\n",
       "      <th>4</th>\n",
       "      <td>5.0</td>\n",
       "      <td>3.6</td>\n",
       "      <td>1.4</td>\n",
       "      <td>0.2</td>\n",
       "      <td>setosa</td>\n",
       "    </tr>\n",
       "  </tbody>\n",
       "</table>\n",
       "</div>"
      ],
      "text/plain": [
       "   sepal_length  sepal_width  petal_length  petal_width Species\n",
       "0           5.1          3.5           1.4          0.2  setosa\n",
       "1           4.9          3.0           1.4          0.2  setosa\n",
       "2           4.7          3.2           1.3          0.2  setosa\n",
       "3           4.6          3.1           1.5          0.2  setosa\n",
       "4           5.0          3.6           1.4          0.2  setosa"
      ]
     },
     "execution_count": 6,
     "metadata": {},
     "output_type": "execute_result"
    }
   ],
   "source": [
    "iris = datasets.load_iris()\n",
    "data = pd.DataFrame(iris['data'], columns=[name.replace(' (cm)', '').replace(' ', '_') for name in iris['feature_names']])\n",
    "data['Species'] = [iris['target_names'][i] for i in iris['target']]\n",
    "data.head()"
   ]
  },
  {
   "cell_type": "markdown",
   "metadata": {},
   "source": [
    "# Plot a decision tree"
   ]
  },
  {
   "cell_type": "code",
   "execution_count": 7,
   "metadata": {
    "ExecuteTime": {
     "end_time": "2018-03-02T10:03:38.633661Z",
     "start_time": "2018-03-02T10:03:38.363793Z"
    },
    "collapsed": true
   },
   "outputs": [],
   "source": [
    "### Model via Decision tree\n",
    "\n",
    "parameters = {'criterion':['gini', 'entropy'], 'max_depth':[1,2,3,4], 'min_samples_leaf':[20]}\n",
    "\n",
    "label = 'Species'\n",
    "attributes = [i for i in data.columns if i != label]\n",
    "X = data[attributes]\n",
    "Y = data[label]\n",
    "\n",
    "model = tree.DecisionTreeClassifier()\n",
    "clfs = GridSearchCV(model, parameters, cv=10)\n",
    "clfs.fit(X, Y)\n",
    "clf = clfs.best_estimator_"
   ]
  },
  {
   "cell_type": "code",
   "execution_count": 8,
   "metadata": {
    "ExecuteTime": {
     "end_time": "2018-03-02T10:03:39.644775Z",
     "start_time": "2018-03-02T10:03:39.444744Z"
    }
   },
   "outputs": [
    {
     "data": {
      "image/svg+xml": [
       "<svg height=\"173pt\" viewBox=\"0.00 0.00 473.00 173.00\" width=\"473pt\" xmlns=\"http://www.w3.org/2000/svg\" xmlns:xlink=\"http://www.w3.org/1999/xlink\">\n",
       "<g class=\"graph\" id=\"graph0\" transform=\"scale(1 1) rotate(0) translate(4 169)\">\n",
       "<title>Tree</title>\n",
       "<polygon fill=\"#ffffff\" points=\"-4,4 -4,-169 469,-169 469,4 -4,4\" stroke=\"transparent\"/>\n",
       "<!-- 0 -->\n",
       "<g class=\"node\" id=\"node1\">\n",
       "<title>0</title>\n",
       "<path d=\"M126,-131.5C126,-131.5 12,-131.5 12,-131.5 6,-131.5 0,-125.5 0,-119.5 0,-119.5 0,-79.5 0,-79.5 0,-73.5 6,-67.5 12,-67.5 12,-67.5 126,-67.5 126,-67.5 132,-67.5 138,-73.5 138,-79.5 138,-79.5 138,-119.5 138,-119.5 138,-125.5 132,-131.5 126,-131.5\" fill=\"transparent\" stroke=\"#000000\"/>\n",
       "<text fill=\"#000000\" font-family=\"Helvetica,sans-Serif\" font-size=\"14.00\" font-weight=\"bold\" text-anchor=\"start\" x=\"8\" y=\"-117.3\">petal_length ≤ 2.45</text>\n",
       "<text fill=\"#000000\" font-family=\"Helvetica,sans-Serif\" font-size=\"14.00\" text-anchor=\"start\" x=\"24\" y=\"-103.3\">samples = 150</text>\n",
       "<text fill=\"#000000\" font-family=\"Helvetica,sans-Serif\" font-size=\"14.00\" text-anchor=\"start\" x=\"11\" y=\"-89.3\">value = [50, 50, 50]</text>\n",
       "<text fill=\"#000000\" font-family=\"Helvetica,sans-Serif\" font-size=\"14.00\" text-anchor=\"start\" x=\"25.5\" y=\"-75.3\">class = setosa</text>\n",
       "</g>\n",
       "<!-- 1 -->\n",
       "<g class=\"node\" id=\"node2\">\n",
       "<title>1</title>\n",
       "<path d=\"M287.5,-165C287.5,-165 194.5,-165 194.5,-165 188.5,-165 182.5,-159 182.5,-153 182.5,-153 182.5,-124 182.5,-124 182.5,-118 188.5,-112 194.5,-112 194.5,-112 287.5,-112 287.5,-112 293.5,-112 299.5,-118 299.5,-124 299.5,-124 299.5,-153 299.5,-153 299.5,-159 293.5,-165 287.5,-165\" fill=\"#e58139\" stroke=\"#000000\"/>\n",
       "<text fill=\"#000000\" font-family=\"Helvetica,sans-Serif\" font-size=\"14.00\" text-anchor=\"start\" x=\"200\" y=\"-149.8\">samples = 50</text>\n",
       "<text fill=\"#000000\" font-family=\"Helvetica,sans-Serif\" font-size=\"14.00\" text-anchor=\"start\" x=\"190.5\" y=\"-134.8\">value = [50, 0, 0]</text>\n",
       "<text fill=\"#000000\" font-family=\"Helvetica,sans-Serif\" font-size=\"14.00\" text-anchor=\"start\" x=\"197.5\" y=\"-119.8\">class = setosa</text>\n",
       "</g>\n",
       "<!-- 0&#45;&gt;1 -->\n",
       "<g class=\"edge\" id=\"edge1\">\n",
       "<title>0-&gt;1</title>\n",
       "<path d=\"M138.4632,-115.2504C149.599,-117.7753 161.1191,-120.3875 172.2384,-122.9087\" fill=\"none\" stroke=\"#000000\"/>\n",
       "<polygon fill=\"#000000\" points=\"171.7883,-126.3954 182.3147,-125.1935 173.3362,-119.5687 171.7883,-126.3954\" stroke=\"#000000\"/>\n",
       "<text fill=\"#000000\" font-family=\"Helvetica,sans-Serif\" font-size=\"14.00\" text-anchor=\"middle\" x=\"161.1656\" y=\"-134.8244\">True</text>\n",
       "</g>\n",
       "<!-- 2 -->\n",
       "<g class=\"node\" id=\"node3\">\n",
       "<title>2</title>\n",
       "<path d=\"M296,-93.5C296,-93.5 186,-93.5 186,-93.5 180,-93.5 174,-87.5 174,-81.5 174,-81.5 174,-41.5 174,-41.5 174,-35.5 180,-29.5 186,-29.5 186,-29.5 296,-29.5 296,-29.5 302,-29.5 308,-35.5 308,-41.5 308,-41.5 308,-81.5 308,-81.5 308,-87.5 302,-93.5 296,-93.5\" fill=\"transparent\" stroke=\"#000000\"/>\n",
       "<text fill=\"#000000\" font-family=\"Helvetica,sans-Serif\" font-size=\"14.00\" font-weight=\"bold\" text-anchor=\"start\" x=\"182\" y=\"-79.3\">petal_width ≤ 1.75</text>\n",
       "<text fill=\"#000000\" font-family=\"Helvetica,sans-Serif\" font-size=\"14.00\" text-anchor=\"start\" x=\"196\" y=\"-65.3\">samples = 100</text>\n",
       "<text fill=\"#000000\" font-family=\"Helvetica,sans-Serif\" font-size=\"14.00\" text-anchor=\"start\" x=\"186.5\" y=\"-51.3\">value = [0, 50, 50]</text>\n",
       "<text fill=\"#000000\" font-family=\"Helvetica,sans-Serif\" font-size=\"14.00\" text-anchor=\"start\" x=\"188.5\" y=\"-37.3\">class = versicolor</text>\n",
       "</g>\n",
       "<!-- 0&#45;&gt;2 -->\n",
       "<g class=\"edge\" id=\"edge2\">\n",
       "<title>0-&gt;2</title>\n",
       "<path d=\"M138.4632,-84.1535C146.8398,-82.3028 155.4339,-80.4041 163.9112,-78.5312\" fill=\"none\" stroke=\"#000000\"/>\n",
       "<polygon fill=\"#000000\" points=\"164.7798,-81.9238 173.7893,-76.3489 163.2696,-75.0887 164.7798,-81.9238\" stroke=\"#000000\"/>\n",
       "<text fill=\"#000000\" font-family=\"Helvetica,sans-Serif\" font-size=\"14.00\" text-anchor=\"middle\" x=\"152.7143\" y=\"-59.201\">False</text>\n",
       "</g>\n",
       "<!-- 3 -->\n",
       "<g class=\"node\" id=\"node4\">\n",
       "<title>3</title>\n",
       "<path d=\"M453,-124C453,-124 356,-124 356,-124 350,-124 344,-118 344,-112 344,-112 344,-83 344,-83 344,-77 350,-71 356,-71 356,-71 453,-71 453,-71 459,-71 465,-77 465,-83 465,-83 465,-112 465,-112 465,-118 459,-124 453,-124\" fill=\"#39e581\" fill-opacity=\"0.898039\" stroke=\"#000000\"/>\n",
       "<text fill=\"#000000\" font-family=\"Helvetica,sans-Serif\" font-size=\"14.00\" text-anchor=\"start\" x=\"363.5\" y=\"-108.8\">samples = 54</text>\n",
       "<text fill=\"#000000\" font-family=\"Helvetica,sans-Serif\" font-size=\"14.00\" text-anchor=\"start\" x=\"354\" y=\"-93.8\">value = [0, 49, 5]</text>\n",
       "<text fill=\"#000000\" font-family=\"Helvetica,sans-Serif\" font-size=\"14.00\" text-anchor=\"start\" x=\"352\" y=\"-78.8\">class = versicolor</text>\n",
       "</g>\n",
       "<!-- 2&#45;&gt;3 -->\n",
       "<g class=\"edge\" id=\"edge3\">\n",
       "<title>2-&gt;3</title>\n",
       "<path d=\"M308.4457,-76.3504C316.8545,-78.2019 325.4718,-80.0993 333.9266,-81.9609\" fill=\"none\" stroke=\"#000000\"/>\n",
       "<polygon fill=\"#000000\" points=\"333.2361,-85.3926 343.7548,-84.1249 334.7414,-78.5564 333.2361,-85.3926\" stroke=\"#000000\"/>\n",
       "</g>\n",
       "<!-- 4 -->\n",
       "<g class=\"node\" id=\"node5\">\n",
       "<title>4</title>\n",
       "<path d=\"M451,-53C451,-53 358,-53 358,-53 352,-53 346,-47 346,-41 346,-41 346,-12 346,-12 346,-6 352,0 358,0 358,0 451,0 451,0 457,0 463,-6 463,-12 463,-12 463,-41 463,-41 463,-47 457,-53 451,-53\" fill=\"#8139e5\" fill-opacity=\"0.976471\" stroke=\"#000000\"/>\n",
       "<text fill=\"#000000\" font-family=\"Helvetica,sans-Serif\" font-size=\"14.00\" text-anchor=\"start\" x=\"363.5\" y=\"-37.8\">samples = 46</text>\n",
       "<text fill=\"#000000\" font-family=\"Helvetica,sans-Serif\" font-size=\"14.00\" text-anchor=\"start\" x=\"354\" y=\"-22.8\">value = [0, 1, 45]</text>\n",
       "<text fill=\"#000000\" font-family=\"Helvetica,sans-Serif\" font-size=\"14.00\" text-anchor=\"start\" x=\"356\" y=\"-7.8\">class = virginica</text>\n",
       "</g>\n",
       "<!-- 2&#45;&gt;4 -->\n",
       "<g class=\"edge\" id=\"edge4\">\n",
       "<title>2-&gt;4</title>\n",
       "<path d=\"M308.4457,-47.0621C317.5541,-45.1123 326.9071,-43.1101 336.0332,-41.1565\" fill=\"none\" stroke=\"#000000\"/>\n",
       "<polygon fill=\"#000000\" points=\"336.7788,-44.5763 345.8246,-39.0605 335.3135,-37.7314 336.7788,-44.5763\" stroke=\"#000000\"/>\n",
       "</g>\n",
       "</g>\n",
       "</svg>"
      ],
      "text/plain": [
       "<IPython.core.display.SVG object>"
      ]
     },
     "metadata": {},
     "output_type": "display_data"
    }
   ],
   "source": [
    "libG.plot_decision_tree(clf, attributes, Y.unique())"
   ]
  },
  {
   "cell_type": "markdown",
   "metadata": {},
   "source": [
    "# Find outliers via KDE"
   ]
  },
  {
   "cell_type": "code",
   "execution_count": 12,
   "metadata": {
    "ExecuteTime": {
     "end_time": "2018-03-02T10:04:06.720737Z",
     "start_time": "2018-03-02T10:04:06.493876Z"
    }
   },
   "outputs": [
    {
     "data": {
      "image/png": "[encoded data removed]",
      "text/plain": [
       "<matplotlib.figure.Figure at 0x7f30413c17f0>"
      ]
     },
     "metadata": {},
     "output_type": "display_data"
    },
    {
     "data": {
      "text/html": [
       "<div>\n",
       "<style>\n",
       "    .dataframe thead tr:only-child th {\n",
       "        text-align: right;\n",
       "    }\n",
       "\n",
       "    .dataframe thead th {\n",
       "        text-align: left;\n",
       "    }\n",
       "\n",
       "    .dataframe tbody tr th {\n",
       "        vertical-align: top;\n",
       "    }\n",
       "</style>\n",
       "<table border=\"1\" class=\"dataframe\">\n",
       "  <thead>\n",
       "    <tr style=\"text-align: right;\">\n",
       "      <th></th>\n",
       "      <th>sepal_length</th>\n",
       "      <th>sepal_width</th>\n",
       "      <th>petal_length</th>\n",
       "      <th>petal_width</th>\n",
       "      <th>Species</th>\n",
       "    </tr>\n",
       "  </thead>\n",
       "  <tbody>\n",
       "    <tr>\n",
       "      <th>57</th>\n",
       "      <td>4.9</td>\n",
       "      <td>2.4</td>\n",
       "      <td>3.3</td>\n",
       "      <td>1.0</td>\n",
       "      <td>versicolor</td>\n",
       "    </tr>\n",
       "    <tr>\n",
       "      <th>93</th>\n",
       "      <td>5.0</td>\n",
       "      <td>2.3</td>\n",
       "      <td>3.3</td>\n",
       "      <td>1.0</td>\n",
       "      <td>versicolor</td>\n",
       "    </tr>\n",
       "    <tr>\n",
       "      <th>98</th>\n",
       "      <td>5.1</td>\n",
       "      <td>2.5</td>\n",
       "      <td>3.0</td>\n",
       "      <td>1.1</td>\n",
       "      <td>versicolor</td>\n",
       "    </tr>\n",
       "    <tr>\n",
       "      <th>105</th>\n",
       "      <td>7.6</td>\n",
       "      <td>3.0</td>\n",
       "      <td>6.6</td>\n",
       "      <td>2.1</td>\n",
       "      <td>virginica</td>\n",
       "    </tr>\n",
       "    <tr>\n",
       "      <th>107</th>\n",
       "      <td>7.3</td>\n",
       "      <td>2.9</td>\n",
       "      <td>6.3</td>\n",
       "      <td>1.8</td>\n",
       "      <td>virginica</td>\n",
       "    </tr>\n",
       "    <tr>\n",
       "      <th>117</th>\n",
       "      <td>7.7</td>\n",
       "      <td>3.8</td>\n",
       "      <td>6.7</td>\n",
       "      <td>2.2</td>\n",
       "      <td>virginica</td>\n",
       "    </tr>\n",
       "    <tr>\n",
       "      <th>118</th>\n",
       "      <td>7.7</td>\n",
       "      <td>2.6</td>\n",
       "      <td>6.9</td>\n",
       "      <td>2.3</td>\n",
       "      <td>virginica</td>\n",
       "    </tr>\n",
       "    <tr>\n",
       "      <th>122</th>\n",
       "      <td>7.7</td>\n",
       "      <td>2.8</td>\n",
       "      <td>6.7</td>\n",
       "      <td>2.0</td>\n",
       "      <td>virginica</td>\n",
       "    </tr>\n",
       "    <tr>\n",
       "      <th>131</th>\n",
       "      <td>7.9</td>\n",
       "      <td>3.8</td>\n",
       "      <td>6.4</td>\n",
       "      <td>2.0</td>\n",
       "      <td>virginica</td>\n",
       "    </tr>\n",
       "  </tbody>\n",
       "</table>\n",
       "</div>"
      ],
      "text/plain": [
       "     sepal_length  sepal_width  petal_length  petal_width     Species\n",
       "57            4.9          2.4           3.3          1.0  versicolor\n",
       "93            5.0          2.3           3.3          1.0  versicolor\n",
       "98            5.1          2.5           3.0          1.1  versicolor\n",
       "105           7.6          3.0           6.6          2.1   virginica\n",
       "107           7.3          2.9           6.3          1.8   virginica\n",
       "117           7.7          3.8           6.7          2.2   virginica\n",
       "118           7.7          2.6           6.9          2.3   virginica\n",
       "122           7.7          2.8           6.7          2.0   virginica\n",
       "131           7.9          3.8           6.4          2.0   virginica"
      ]
     },
     "execution_count": 12,
     "metadata": {},
     "output_type": "execute_result"
    }
   ],
   "source": [
    "libG.outlier_1d(data, 'petal_length', quantiles=[0.8, 0.75, 0.5])"
   ]
  },
  {
   "cell_type": "markdown",
   "metadata": {},
   "source": [
    "# Sort the data according to hierarchical clustering"
   ]
  },
  {
   "cell_type": "code",
   "execution_count": 14,
   "metadata": {
    "ExecuteTime": {
     "end_time": "2018-03-02T10:04:41.454599Z",
     "start_time": "2018-03-02T10:04:41.406526Z"
    }
   },
   "outputs": [
    {
     "data": {
      "text/html": [
       "<div>\n",
       "<style>\n",
       "    .dataframe thead tr:only-child th {\n",
       "        text-align: right;\n",
       "    }\n",
       "\n",
       "    .dataframe thead th {\n",
       "        text-align: left;\n",
       "    }\n",
       "\n",
       "    .dataframe tbody tr th {\n",
       "        vertical-align: top;\n",
       "    }\n",
       "</style>\n",
       "<table border=\"1\" class=\"dataframe\">\n",
       "  <thead>\n",
       "    <tr style=\"text-align: right;\">\n",
       "      <th></th>\n",
       "      <th>sepal_width</th>\n",
       "      <th>sepal_length</th>\n",
       "      <th>petal_length</th>\n",
       "      <th>petal_width</th>\n",
       "    </tr>\n",
       "  </thead>\n",
       "  <tbody>\n",
       "    <tr>\n",
       "      <th>117</th>\n",
       "      <td>3.8</td>\n",
       "      <td>7.7</td>\n",
       "      <td>6.7</td>\n",
       "      <td>2.2</td>\n",
       "    </tr>\n",
       "    <tr>\n",
       "      <th>131</th>\n",
       "      <td>3.8</td>\n",
       "      <td>7.9</td>\n",
       "      <td>6.4</td>\n",
       "      <td>2.0</td>\n",
       "    </tr>\n",
       "    <tr>\n",
       "      <th>106</th>\n",
       "      <td>2.5</td>\n",
       "      <td>4.9</td>\n",
       "      <td>4.5</td>\n",
       "      <td>1.7</td>\n",
       "    </tr>\n",
       "    <tr>\n",
       "      <th>109</th>\n",
       "      <td>3.6</td>\n",
       "      <td>7.2</td>\n",
       "      <td>6.1</td>\n",
       "      <td>2.5</td>\n",
       "    </tr>\n",
       "    <tr>\n",
       "      <th>114</th>\n",
       "      <td>2.8</td>\n",
       "      <td>5.8</td>\n",
       "      <td>5.1</td>\n",
       "      <td>2.4</td>\n",
       "    </tr>\n",
       "  </tbody>\n",
       "</table>\n",
       "</div>"
      ],
      "text/plain": [
       "     sepal_width  sepal_length  petal_length  petal_width\n",
       "117          3.8           7.7           6.7          2.2\n",
       "131          3.8           7.9           6.4          2.0\n",
       "106          2.5           4.9           4.5          1.7\n",
       "109          3.6           7.2           6.1          2.5\n",
       "114          2.8           5.8           5.1          2.4"
      ]
     },
     "execution_count": 14,
     "metadata": {},
     "output_type": "execute_result"
    }
   ],
   "source": [
    "sorted_data = libG.hclust_sort(data[attributes])\n",
    "sorted_data.head()"
   ]
  },
  {
   "cell_type": "markdown",
   "metadata": {},
   "source": [
    "# Interactively inspect the sorted data"
   ]
  },
  {
   "cell_type": "code",
   "execution_count": 15,
   "metadata": {
    "ExecuteTime": {
     "end_time": "2018-03-02T10:04:46.810883Z",
     "start_time": "2018-03-02T10:04:46.610644Z"
    }
   },
   "outputs": [
    {
     "data": {
      "text/html": [
       "\n",
       "<div class=\"bk-root\">\n",
       "    <div class=\"bk-plotdiv\" id=\"487112c6-497d-462d-ac1f-4ec8374560c8\"></div>\n",
       "</div>"
      ]
     },
     "metadata": {},
     "output_type": "display_data"
    },
    {
     "data": {
      "application/javascript": [
       "(function(root) {\n",
       "  function embed_document(root) {\n",
       "    var docs_json = {\"68f8b790-6390-425b-a585-86dc28fed4eb\":{\"roots\":{\"references\":[{\"attributes\":{\"plot\":null,\"text\":\"\"},\"id\":\"58a37fb8-4e56-4500-a00f-5a59ee5d07d1\",\"type\":\"Title\"},{\"attributes\":{\"callback\":null,\"column_names\":[\"Index\",\"Column\",\"value\",\"x\",\"y\",\"index\",\"original_value\"],\"data\":{\"Column\":[\"sepal_width\",\"sepal_width\",\"sepal_width\",\"sepal_width\",\"sepal_width\",\"sepal_width\",\"sepal_width\",\"sepal_width\",\"sepal_width\",\"sepal_width\",\"sepal_width\",\"sepal_width\",\"sepal_width\",\"sepal_width\",\"sepal_width\",\"sepal_width\",\"sepal_width\",\"sepal_width\",\"sepal_width\",\"sepal_width\",\"sepal_width\",\"sepal_width\",\"sepal_width\",\"sepal_width\",\"sepal_width\",\"sepal_width\",\"sepal_width\",\"sepal_width\",\"sepal_width\",\"sepal_width\",\"sepal_width\",\"sepal_width\",\"sepal_width\",\"sepal_width\",\"sepal_width\",\"sepal_width\",\"sepal_width\",\"sepal_width\",\"sepal_width\",\"sepal_width\",\"sepal_width\",\"sepal_width\",\"sepal_width\",\"sepal_width\",\"sepal_width\",\"sepal_width\",\"sepal_width\",\"sepal_width\",\"sepal_width\",\"sepal_width\",\"sepal_width\",\"sepal_width\",\"sepal_width\",\"sepal_width\",\"sepal_width\",\"sepal_width\",\"sepal_width\",\"sepal_width\",\"sepal_width\",\"sepal_width\",\"sepal_width\",\"sepal_width\",\"sepal_width\",\"sepal_width\",\"sepal_width\",\"sepal_width\",\"sepal_width\",\"sepal_width\",\"sepal_width\",\"sepal_width\",\"sepal_width\",\"sepal_width\",\"sepal_width\",\"sepal_width\",\"sepal_width\",\"sepal_width\",\"sepal_width\",\"sepal_width\",\"sepal_width\",\"sepal_width\",\"sepal_width\",\"sepal_width\",\"sepal_width\",\"sepal_width\",\"sepal_width\",\"sepal_width\",\"sepal_width\",\"sepal_width\",\"sepal_width\",\"sepal_width\",\"sepal_width\",\"sepal_width\",\"sepal_width\",\"sepal_width\",\"sepal_width\",\"sepal_width\",\"sepal_width\",\"sepal_width\",\"sepal_width\",\"sepal_width\",\"sepal_width\",\"sepal_width\",\"sepal_width\",\"sepal_width\",\"sepal_width\",\"sepal_width\",\"sepal_width\",\"sepal_width\",\"sepal_width\",\"sepal_width\",\"sepal_width\",\"sepal_width\",\"sepal_width\",\"sepal_width\",\"sepal_width\",\"sepal_width\",\"sepal_width\",\"sepal_width\",\"sepal_width\",\"sepal_width\",\"sepal_width\",\"sepal_width\",\"sepal_width\",\"sepal_width\",\"sepal_width\",\"sepal_width\",\"sepal_width\",\"sepal_width\",\"sepal_width\",\"sepal_width\",\"sepal_width\",\"sepal_width\",\"sepal_width\",\"sepal_width\",\"sepal_width\",\"sepal_width\",\"sepal_width\",\"sepal_width\",\"sepal_width\",\"sepal_width\",\"sepal_width\",\"sepal_width\",\"sepal_width\",\"sepal_width\",\"sepal_width\",\"sepal_width\",\"sepal_width\",\"sepal_width\",\"sepal_width\",\"sepal_width\",\"sepal_length\",\"sepal_length\",\"sepal_length\",\"sepal_length\",\"sepal_length\",\"sepal_length\",\"sepal_length\",\"sepal_length\",\"sepal_length\",\"sepal_length\",\"sepal_length\",\"sepal_length\",\"sepal_length\",\"sepal_length\",\"sepal_length\",\"sepal_length\",\"sepal_length\",\"sepal_length\",\"sepal_length\",\"sepal_length\",\"sepal_length\",\"sepal_length\",\"sepal_length\",\"sepal_length\",\"sepal_length\",\"sepal_length\",\"sepal_length\",\"sepal_length\",\"sepal_length\",\"sepal_length\",\"sepal_length\",\"sepal_length\",\"sepal_length\",\"sepal_length\",\"sepal_length\",\"sepal_length\",\"sepal_length\",\"sepal_length\",\"sepal_length\",\"sepal_length\",\"sepal_length\",\"sepal_length\",\"sepal_length\",\"sepal_length\",\"sepal_length\",\"sepal_length\",\"sepal_length\",\"sepal_length\",\"sepal_length\",\"sepal_length\",\"sepal_length\",\"sepal_length\",\"sepal_length\",\"sepal_length\",\"sepal_length\",\"sepal_length\",\"sepal_length\",\"sepal_length\",\"sepal_length\",\"sepal_length\",\"sepal_length\",\"sepal_length\",\"sepal_length\",\"sepal_length\",\"sepal_length\",\"sepal_length\",\"sepal_length\",\"sepal_length\",\"sepal_length\",\"sepal_length\",\"sepal_length\",\"sepal_length\",\"sepal_length\",\"sepal_length\",\"sepal_length\",\"sepal_length\",\"sepal_length\",\"sepal_length\",\"sepal_length\",\"sepal_length\",\"sepal_length\",\"sepal_length\",\"sepal_length\",\"sepal_length\",\"sepal_length\",\"sepal_length\",\"sepal_length\",\"sepal_length\",\"sepal_length\",\"sepal_length\",\"sepal_length\",\"sepal_length\",\"sepal_length\",\"sepal_length\",\"sepal_length\",\"sepal_length\",\"sepal_length\",\"sepal_length\",\"sepal_length\",\"sepal_length\",\"sepal_length\",\"sepal_length\",\"sepal_length\",\"sepal_length\",\"sepal_length\",\"sepal_length\",\"sepal_length\",\"sepal_length\",\"sepal_length\",\"sepal_length\",\"sepal_length\",\"sepal_length\",\"sepal_length\",\"sepal_length\",\"sepal_length\",\"sepal_length\",\"sepal_length\",\"sepal_length\",\"sepal_length\",\"sepal_length\",\"sepal_length\",\"sepal_length\",\"sepal_length\",\"sepal_length\",\"sepal_length\",\"sepal_length\",\"sepal_length\",\"sepal_length\",\"sepal_length\",\"sepal_length\",\"sepal_length\",\"sepal_length\",\"sepal_length\",\"sepal_length\",\"sepal_length\",\"sepal_length\",\"sepal_length\",\"sepal_length\",\"sepal_length\",\"sepal_length\",\"sepal_length\",\"sepal_length\",\"sepal_length\",\"sepal_length\",\"sepal_length\",\"sepal_length\",\"sepal_length\",\"sepal_length\",\"sepal_length\",\"sepal_length\",\"petal_length\",\"petal_length\",\"petal_length\",\"petal_length\",\"petal_length\",\"petal_length\",\"petal_length\",\"petal_length\",\"petal_length\",\"petal_length\",\"petal_length\",\"petal_length\",\"petal_length\",\"petal_length\",\"petal_length\",\"petal_length\",\"petal_length\",\"petal_length\",\"petal_length\",\"petal_length\",\"petal_length\",\"petal_length\",\"petal_length\",\"petal_length\",\"petal_length\",\"petal_length\",\"petal_length\",\"petal_length\",\"petal_length\",\"petal_length\",\"petal_length\",\"petal_length\",\"petal_length\",\"petal_length\",\"petal_length\",\"petal_length\",\"petal_length\",\"petal_length\",\"petal_length\",\"petal_length\",\"petal_length\",\"petal_length\",\"petal_length\",\"petal_length\",\"petal_length\",\"petal_length\",\"petal_length\",\"petal_length\",\"petal_length\",\"petal_length\",\"petal_length\",\"petal_length\",\"petal_length\",\"petal_length\",\"petal_length\",\"petal_length\",\"petal_length\",\"petal_length\",\"petal_length\",\"petal_length\",\"petal_length\",\"petal_length\",\"petal_length\",\"petal_length\",\"petal_length\",\"petal_length\",\"petal_length\",\"petal_length\",\"petal_length\",\"petal_length\",\"petal_length\",\"petal_length\",\"petal_length\",\"petal_length\",\"petal_length\",\"petal_length\",\"petal_length\",\"petal_length\",\"petal_length\",\"petal_length\",\"petal_length\",\"petal_length\",\"petal_length\",\"petal_length\",\"petal_length\",\"petal_length\",\"petal_length\",\"petal_length\",\"petal_length\",\"petal_length\",\"petal_length\",\"petal_length\",\"petal_length\",\"petal_length\",\"petal_length\",\"petal_length\",\"petal_length\",\"petal_length\",\"petal_length\",\"petal_length\",\"petal_length\",\"petal_length\",\"petal_length\",\"petal_length\",\"petal_length\",\"petal_length\",\"petal_length\",\"petal_length\",\"petal_length\",\"petal_length\",\"petal_length\",\"petal_length\",\"petal_length\",\"petal_length\",\"petal_length\",\"petal_length\",\"petal_length\",\"petal_length\",\"petal_length\",\"petal_length\",\"petal_length\",\"petal_length\",\"petal_length\",\"petal_length\",\"petal_length\",\"petal_length\",\"petal_length\",\"petal_length\",\"petal_length\",\"petal_length\",\"petal_length\",\"petal_length\",\"petal_length\",\"petal_length\",\"petal_length\",\"petal_length\",\"petal_length\",\"petal_length\",\"petal_length\",\"petal_length\",\"petal_length\",\"petal_length\",\"petal_length\",\"petal_length\",\"petal_length\",\"petal_length\",\"petal_length\",\"petal_length\",\"petal_length\",\"petal_length\",\"petal_width\",\"petal_width\",\"petal_width\",\"petal_width\",\"petal_width\",\"petal_width\",\"petal_width\",\"petal_width\",\"petal_width\",\"petal_width\",\"petal_width\",\"petal_width\",\"petal_width\",\"petal_width\",\"petal_width\",\"petal_width\",\"petal_width\",\"petal_width\",\"petal_width\",\"petal_width\",\"petal_width\",\"petal_width\",\"petal_width\",\"petal_width\",\"petal_width\",\"petal_width\",\"petal_width\",\"petal_width\",\"petal_width\",\"petal_width\",\"petal_width\",\"petal_width\",\"petal_width\",\"petal_width\",\"petal_width\",\"petal_width\",\"petal_width\",\"petal_width\",\"petal_width\",\"petal_width\",\"petal_width\",\"petal_width\",\"petal_width\",\"petal_width\",\"petal_width\",\"petal_width\",\"petal_width\",\"petal_width\",\"petal_width\",\"petal_width\",\"petal_width\",\"petal_width\",\"petal_width\",\"petal_width\",\"petal_width\",\"petal_width\",\"petal_width\",\"petal_width\",\"petal_width\",\"petal_width\",\"petal_width\",\"petal_width\",\"petal_width\",\"petal_width\",\"petal_width\",\"petal_width\",\"petal_width\",\"petal_width\",\"petal_width\",\"petal_width\",\"petal_width\",\"petal_width\",\"petal_width\",\"petal_width\",\"petal_width\",\"petal_width\",\"petal_width\",\"petal_width\",\"petal_width\",\"petal_width\",\"petal_width\",\"petal_width\",\"petal_width\",\"petal_width\",\"petal_width\",\"petal_width\",\"petal_width\",\"petal_width\",\"petal_width\",\"petal_width\",\"petal_width\",\"petal_width\",\"petal_width\",\"petal_width\",\"petal_width\",\"petal_width\",\"petal_width\",\"petal_width\",\"petal_width\",\"petal_width\",\"petal_width\",\"petal_width\",\"petal_width\",\"petal_width\",\"petal_width\",\"petal_width\",\"petal_width\",\"petal_width\",\"petal_width\",\"petal_width\",\"petal_width\",\"petal_width\",\"petal_width\",\"petal_width\",\"petal_width\",\"petal_width\",\"petal_width\",\"petal_width\",\"petal_width\",\"petal_width\",\"petal_width\",\"petal_width\",\"petal_width\",\"petal_width\",\"petal_width\",\"petal_width\",\"petal_width\",\"petal_width\",\"petal_width\",\"petal_width\",\"petal_width\",\"petal_width\",\"petal_width\",\"petal_width\",\"petal_width\",\"petal_width\",\"petal_width\",\"petal_width\",\"petal_width\",\"petal_width\",\"petal_width\",\"petal_width\",\"petal_width\",\"petal_width\",\"petal_width\",\"petal_width\",\"petal_width\",\"petal_width\",\"petal_width\",\"petal_width\"],\"Index\":[117,131,106,109,114,62,60,98,57,93,118,108,135,105,122,107,130,125,129,119,68,87,113,121,101,142,72,134,59,115,100,136,148,77,64,79,67,69,80,81,90,82,92,55,95,94,88,96,99,53,89,83,133,66,84,54,73,76,61,78,63,91,71,74,97,50,58,65,75,52,86,85,51,56,102,146,111,123,126,70,149,127,138,104,128,132,103,116,137,110,147,124,112,139,144,141,145,140,120,143,41,15,22,18,5,16,43,31,44,10,48,21,19,46,36,42,30,3,29,2,47,37,9,34,12,45,1,25,13,8,38,6,20,11,24,35,4,49,28,7,39,17,40,0,27,23,26,14,32,33,117,131,106,109,114,62,60,98,57,93,118,108,135,105,122,107,130,125,129,119,68,87,113,121,101,142,72,134,59,115,100,136,148,77,64,79,67,69,80,81,90,82,92,55,95,94,88,96,99,53,89,83,133,66,84,54,73,76,61,78,63,91,71,74,97,50,58,65,75,52,86,85,51,56,102,146,111,123,126,70,149,127,138,104,128,132,103,116,137,110,147,124,112,139,144,141,145,140,120,143,41,15,22,18,5,16,43,31,44,10,48,21,19,46,36,42,30,3,29,2,47,37,9,34,12,45,1,25,13,8,38,6,20,11,24,35,4,49,28,7,39,17,40,0,27,23,26,14,32,33,117,131,106,109,114,62,60,98,57,93,118,108,135,105,122,107,130,125,129,119,68,87,113,121,101,142,72,134,59,115,100,136,148,77,64,79,67,69,80,81,90,82,92,55,95,94,88,96,99,53,89,83,133,66,84,54,73,76,61,78,63,91,71,74,97,50,58,65,75,52,86,85,51,56,102,146,111,123,126,70,149,127,138,104,128,132,103,116,137,110,147,124,112,139,144,141,145,140,120,143,41,15,22,18,5,16,43,31,44,10,48,21,19,46,36,42,30,3,29,2,47,37,9,34,12,45,1,25,13,8,38,6,20,11,24,35,4,49,28,7,39,17,40,0,27,23,26,14,32,33,117,131,106,109,114,62,60,98,57,93,118,108,135,105,122,107,130,125,129,119,68,87,113,121,101,142,72,134,59,115,100,136,148,77,64,79,67,69,80,81,90,82,92,55,95,94,88,96,99,53,89,83,133,66,84,54,73,76,61,78,63,91,71,74,97,50,58,65,75,52,86,85,51,56,102,146,111,123,126,70,149,127,138,104,128,132,103,116,137,110,147,124,112,139,144,141,145,140,120,143,41,15,22,18,5,16,43,31,44,10,48,21,19,46,36,42,30,3,29,2,47,37,9,34,12,45,1,25,13,8,38,6,20,11,24,35,4,49,28,7,39,17,40,0,27,23,26,14,32,33],\"index\":[0,1,2,3,4,5,6,7,8,9,10,11,12,13,14,15,16,17,18,19,20,21,22,23,24,25,26,27,28,29,30,31,32,33,34,35,36,37,38,39,40,41,42,43,44,45,46,47,48,49,50,51,52,53,54,55,56,57,58,59,60,61,62,63,64,65,66,67,68,69,70,71,72,73,74,75,76,77,78,79,80,81,82,83,84,85,86,87,88,89,90,91,92,93,94,95,96,97,98,99,100,101,102,103,104,105,106,107,108,109,110,111,112,113,114,115,116,117,118,119,120,121,122,123,124,125,126,127,128,129,130,131,132,133,134,135,136,137,138,139,140,141,142,143,144,145,146,147,148,149,150,151,152,153,154,155,156,157,158,159,160,161,162,163,164,165,166,167,168,169,170,171,172,173,174,175,176,177,178,179,180,181,182,183,184,185,186,187,188,189,190,191,192,193,194,195,196,197,198,199,200,201,202,203,204,205,206,207,208,209,210,211,212,213,214,215,216,217,218,219,220,221,222,223,224,225,226,227,228,229,230,231,232,233,234,235,236,237,238,239,240,241,242,243,244,245,246,247,248,249,250,251,252,253,254,255,256,257,258,259,260,261,262,263,264,265,266,267,268,269,270,271,272,273,274,275,276,277,278,279,280,281,282,283,284,285,286,287,288,289,290,291,292,293,294,295,296,297,298,299,300,301,302,303,304,305,306,307,308,309,310,311,312,313,314,315,316,317,318,319,320,321,322,323,324,325,326,327,328,329,330,331,332,333,334,335,336,337,338,339,340,341,342,343,344,345,346,347,348,349,350,351,352,353,354,355,356,357,358,359,360,361,362,363,364,365,366,367,368,369,370,371,372,373,374,375,376,377,378,379,380,381,382,383,384,385,386,387,388,389,390,391,392,393,394,395,396,397,398,399,400,401,402,403,404,405,406,407,408,409,410,411,412,413,414,415,416,417,418,419,420,421,422,423,424,425,426,427,428,429,430,431,432,433,434,435,436,437,438,439,440,441,442,443,444,445,446,447,448,449,450,451,452,453,454,455,456,457,458,459,460,461,462,463,464,465,466,467,468,469,470,471,472,473,474,475,476,477,478,479,480,481,482,483,484,485,486,487,488,489,490,491,492,493,494,495,496,497,498,499,500,501,502,503,504,505,506,507,508,509,510,511,512,513,514,515,516,517,518,519,520,521,522,523,524,525,526,527,528,529,530,531,532,533,534,535,536,537,538,539,540,541,542,543,544,545,546,547,548,549,550,551,552,553,554,555,556,557,558,559,560,561,562,563,564,565,566,567,568,569,570,571,572,573,574,575,576,577,578,579,580,581,582,583,584,585,586,587,588,589,590,591,592,593,594,595,596,597,598,599],\"original_value\":{\"__ndarray__\":\"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\",\"dtype\":\"float64\",\"shape\":[600]},\"value\":{\"__ndarray__\":\"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\",\"dtype\":\"float64\",\"shape\":[600]},\"x\":{\"__ndarray__\":\"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\",\"dtype\":\"float64\",\"shape\":[600]},\"y\":{\"__ndarray__\":\"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\",\"dtype\":\"float64\",\"shape\":[600]}}},\"id\":\"ef53b57f-f1bd-4fc5-957e-0cb62b46c763\",\"type\":\"ColumnDataSource\"},{\"attributes\":{},\"id\":\"c94471ec-05d5-4823-83c6-b39ce4577732\",\"type\":\"WheelZoomTool\"},{\"attributes\":{\"data_source\":{\"id\":\"ef53b57f-f1bd-4fc5-957e-0cb62b46c763\",\"type\":\"ColumnDataSource\"},\"glyph\":{\"id\":\"cd4f52fe-1404-476d-9faf-86be369dd94e\",\"type\":\"Rect\"},\"hover_glyph\":null,\"muted_glyph\":null,\"nonselection_glyph\":{\"id\":\"a51adb40-fd4e-430d-9068-451cf63c837b\",\"type\":\"Rect\"},\"selection_glyph\":null,\"view\":{\"id\":\"38982dc9-4fc4-4c08-a3c6-11cd2fa83d55\",\"type\":\"CDSView\"}},\"id\":\"70b1934b-6174-4ee2-8b1c-d99e6fbb96f2\",\"type\":\"GlyphRenderer\"},{\"attributes\":{\"fill_color\":{\"field\":\"value\",\"transform\":{\"id\":\"3da52b74-87cd-4262-a086-73e385ca83fa\",\"type\":\"LinearColorMapper\"}},\"height\":{\"units\":\"data\",\"value\":1},\"line_color\":{\"field\":\"value\",\"transform\":{\"id\":\"3da52b74-87cd-4262-a086-73e385ca83fa\",\"type\":\"LinearColorMapper\"}},\"width\":{\"units\":\"data\",\"value\":1},\"x\":{\"field\":\"x\"},\"y\":{\"field\":\"y\"}},\"id\":\"cd4f52fe-1404-476d-9faf-86be369dd94e\",\"type\":\"Rect\"},{\"attributes\":{\"callback\":null,\"factors\":[\"sepal_width\",\"sepal_length\",\"petal_length\",\"petal_width\"]},\"id\":\"a0715fcb-ce17-48cb-9d87-92271307d76f\",\"type\":\"FactorRange\"},{\"attributes\":{\"overlay\":{\"id\":\"5b6d828f-eb6e-4f0c-b14b-779cad59ff80\",\"type\":\"BoxAnnotation\"}},\"id\":\"b5030131-99cc-4b3c-bd94-8b1c02e027f4\",\"type\":\"BoxZoomTool\"},{\"attributes\":{\"active_drag\":\"auto\",\"active_inspect\":\"auto\",\"active_scroll\":\"auto\",\"active_tap\":\"auto\",\"tools\":[{\"id\":\"fde0e6d0-cce1-4638-94f4-c497b80ae13c\",\"type\":\"HoverTool\"},{\"id\":\"1ad5fd5a-9f0f-4a46-a2b9-ae36a9b10660\",\"type\":\"ResetTool\"},{\"id\":\"b5030131-99cc-4b3c-bd94-8b1c02e027f4\",\"type\":\"BoxZoomTool\"},{\"id\":\"c94471ec-05d5-4823-83c6-b39ce4577732\",\"type\":\"WheelZoomTool\"},{\"id\":\"9c5adc4f-22c3-427c-949c-2f4099ba0a70\",\"type\":\"PanTool\"}]},\"id\":\"9e04c7e2-5062-4625-a6b8-94c4a26a97d3\",\"type\":\"Toolbar\"},{\"attributes\":{},\"id\":\"1ad5fd5a-9f0f-4a46-a2b9-ae36a9b10660\",\"type\":\"ResetTool\"},{\"attributes\":{\"callback\":null,\"factors\":[\"33\",\"32\",\"14\",\"26\",\"23\",\"27\",\"0\",\"40\",\"17\",\"39\",\"7\",\"28\",\"49\",\"4\",\"35\",\"24\",\"11\",\"20\",\"6\",\"38\",\"8\",\"13\",\"25\",\"1\",\"45\",\"12\",\"34\",\"9\",\"37\",\"47\",\"2\",\"29\",\"3\",\"30\",\"42\",\"36\",\"46\",\"19\",\"21\",\"48\",\"10\",\"44\",\"31\",\"43\",\"16\",\"5\",\"18\",\"22\",\"15\",\"41\",\"143\",\"120\",\"140\",\"145\",\"141\",\"144\",\"139\",\"112\",\"124\",\"147\",\"110\",\"137\",\"116\",\"103\",\"132\",\"128\",\"104\",\"138\",\"127\",\"149\",\"70\",\"126\",\"123\",\"111\",\"146\",\"102\",\"56\",\"51\",\"85\",\"86\",\"52\",\"75\",\"65\",\"58\",\"50\",\"97\",\"74\",\"71\",\"91\",\"63\",\"78\",\"61\",\"76\",\"73\",\"54\",\"84\",\"66\",\"133\",\"83\",\"89\",\"53\",\"99\",\"96\",\"88\",\"94\",\"95\",\"55\",\"92\",\"82\",\"90\",\"81\",\"80\",\"69\",\"67\",\"79\",\"64\",\"77\",\"148\",\"136\",\"100\",\"115\",\"59\",\"134\",\"72\",\"142\",\"101\",\"121\",\"113\",\"87\",\"68\",\"119\",\"129\",\"125\",\"130\",\"107\",\"122\",\"105\",\"135\",\"108\",\"118\",\"93\",\"57\",\"98\",\"60\",\"62\",\"114\",\"109\",\"106\",\"131\",\"117\"]},\"id\":\"857700ac-b00e-4052-b01d-f57f7d59fd28\",\"type\":\"FactorRange\"},{\"attributes\":{\"source\":{\"id\":\"ef53b57f-f1bd-4fc5-957e-0cb62b46c763\",\"type\":\"ColumnDataSource\"}},\"id\":\"38982dc9-4fc4-4c08-a3c6-11cd2fa83d55\",\"type\":\"CDSView\"},{\"attributes\":{},\"id\":\"e1f36860-1a34-46f8-b64b-e47d1f0a2a94\",\"type\":\"CategoricalScale\"},{\"attributes\":{},\"id\":\"8e031a43-fe34-457b-bf96-592b36ce7acc\",\"type\":\"CategoricalTicker\"},{\"attributes\":{\"dimension\":1,\"grid_line_color\":{\"value\":null},\"plot\":{\"id\":\"b9b2f8a3-a584-4d9f-8080-12f837d9ba1a\",\"subtype\":\"Figure\",\"type\":\"Plot\"},\"ticker\":{\"id\":\"9757726f-abde-4b3c-b1a5-a3d4c6b92f29\",\"type\":\"CategoricalTicker\"}},\"id\":\"67d5ced0-4e8e-428a-bee0-234e3d39c75c\",\"type\":\"Grid\"},{\"attributes\":{},\"id\":\"411ca756-9cb6-4420-90d1-918db7830805\",\"type\":\"CategoricalScale\"},{\"attributes\":{},\"id\":\"9842189a-bee1-4354-98e9-56086b662146\",\"type\":\"CategoricalTickFormatter\"},{\"attributes\":{},\"id\":\"9757726f-abde-4b3c-b1a5-a3d4c6b92f29\",\"type\":\"CategoricalTicker\"},{\"attributes\":{\"bottom_units\":\"screen\",\"fill_alpha\":{\"value\":0.5},\"fill_color\":{\"value\":\"lightgrey\"},\"left_units\":\"screen\",\"level\":\"overlay\",\"line_alpha\":{\"value\":1.0},\"line_color\":{\"value\":\"black\"},\"line_dash\":[4,4],\"line_width\":{\"value\":2},\"plot\":null,\"render_mode\":\"css\",\"right_units\":\"screen\",\"top_units\":\"screen\"},\"id\":\"5b6d828f-eb6e-4f0c-b14b-779cad59ff80\",\"type\":\"BoxAnnotation\"},{\"attributes\":{\"callback\":null,\"tooltips\":[[\"Index\",\"@Index\"],[\"Column\",\"@Column\"],[\"Value\",\"@original_value\"]]},\"id\":\"fde0e6d0-cce1-4638-94f4-c497b80ae13c\",\"type\":\"HoverTool\"},{\"attributes\":{\"fill_alpha\":{\"value\":0.1},\"fill_color\":{\"value\":\"#1f77b4\"},\"height\":{\"units\":\"data\",\"value\":1},\"line_alpha\":{\"value\":0.1},\"line_color\":{\"value\":\"#1f77b4\"},\"width\":{\"units\":\"data\",\"value\":1},\"x\":{\"field\":\"x\"},\"y\":{\"field\":\"y\"}},\"id\":\"a51adb40-fd4e-430d-9068-451cf63c837b\",\"type\":\"Rect\"},{\"attributes\":{},\"id\":\"05203301-7b12-4dc1-bdd5-40d8e1dde065\",\"type\":\"CategoricalTickFormatter\"},{\"attributes\":{\"axis_label\":\"Column\",\"axis_line_color\":{\"value\":null},\"formatter\":{\"id\":\"9842189a-bee1-4354-98e9-56086b662146\",\"type\":\"CategoricalTickFormatter\"},\"major_label_orientation\":1.0471975511965976,\"major_label_standoff\":0,\"major_label_text_font_size\":{\"value\":\"10pt\"},\"major_tick_line_color\":{\"value\":null},\"plot\":{\"id\":\"b9b2f8a3-a584-4d9f-8080-12f837d9ba1a\",\"subtype\":\"Figure\",\"type\":\"Plot\"},\"ticker\":{\"id\":\"8e031a43-fe34-457b-bf96-592b36ce7acc\",\"type\":\"CategoricalTicker\"}},\"id\":\"d0f4ba58-8620-47f2-ab1f-5ff6689cfe35\",\"type\":\"CategoricalAxis\"},{\"attributes\":{\"grid_line_color\":{\"value\":null},\"plot\":{\"id\":\"b9b2f8a3-a584-4d9f-8080-12f837d9ba1a\",\"subtype\":\"Figure\",\"type\":\"Plot\"},\"ticker\":{\"id\":\"8e031a43-fe34-457b-bf96-592b36ce7acc\",\"type\":\"CategoricalTicker\"}},\"id\":\"774829c5-5b02-45c3-94d6-71d231324ed0\",\"type\":\"Grid\"},{\"attributes\":{},\"id\":\"9c5adc4f-22c3-427c-949c-2f4099ba0a70\",\"type\":\"PanTool\"},{\"attributes\":{\"axis_label\":\"Index\",\"axis_line_color\":{\"value\":null},\"formatter\":{\"id\":\"05203301-7b12-4dc1-bdd5-40d8e1dde065\",\"type\":\"CategoricalTickFormatter\"},\"major_label_standoff\":0,\"major_label_text_font_size\":{\"value\":\"10pt\"},\"major_tick_line_color\":{\"value\":null},\"plot\":{\"id\":\"b9b2f8a3-a584-4d9f-8080-12f837d9ba1a\",\"subtype\":\"Figure\",\"type\":\"Plot\"},\"ticker\":{\"id\":\"9757726f-abde-4b3c-b1a5-a3d4c6b92f29\",\"type\":\"CategoricalTicker\"}},\"id\":\"9f69f94d-640c-403a-b459-1010c7acdee2\",\"type\":\"CategoricalAxis\"},{\"attributes\":{\"palette\":[\"#440154\",\"#440255\",\"#440357\",\"#450558\",\"#45065A\",\"#45085B\",\"#46095C\",\"#460B5E\",\"#460C5F\",\"#460E61\",\"#470F62\",\"#471163\",\"#471265\",\"#471466\",\"#471567\",\"#471669\",\"#47186A\",\"#48196B\",\"#481A6C\",\"#481C6E\",\"#481D6F\",\"#481E70\",\"#482071\",\"#482172\",\"#482273\",\"#482374\",\"#472575\",\"#472676\",\"#472777\",\"#472878\",\"#472A79\",\"#472B7A\",\"#472C7B\",\"#462D7C\",\"#462F7C\",\"#46307D\",\"#46317E\",\"#45327F\",\"#45347F\",\"#453580\",\"#453681\",\"#443781\",\"#443982\",\"#433A83\",\"#433B83\",\"#433C84\",\"#423D84\",\"#423E85\",\"#424085\",\"#414186\",\"#414286\",\"#404387\",\"#404487\",\"#3F4587\",\"#3F4788\",\"#3E4888\",\"#3E4989\",\"#3D4A89\",\"#3D4B89\",\"#3D4C89\",\"#3C4D8A\",\"#3C4E8A\",\"#3B508A\",\"#3B518A\",\"#3A528B\",\"#3A538B\",\"#39548B\",\"#39558B\",\"#38568B\",\"#38578C\",\"#37588C\",\"#37598C\",\"#365A8C\",\"#365B8C\",\"#355C8C\",\"#355D8C\",\"#345E8D\",\"#345F8D\",\"#33608D\",\"#33618D\",\"#32628D\",\"#32638D\",\"#31648D\",\"#31658D\",\"#31668D\",\"#30678D\",\"#30688D\",\"#2F698D\",\"#2F6A8D\",\"#2E6B8E\",\"#2E6C8E\",\"#2E6D8E\",\"#2D6E8E\",\"#2D6F8E\",\"#2C708E\",\"#2C718E\",\"#2C728E\",\"#2B738E\",\"#2B748E\",\"#2A758E\",\"#2A768E\",\"#2A778E\",\"#29788E\",\"#29798E\",\"#287A8E\",\"#287A8E\",\"#287B8E\",\"#277C8E\",\"#277D8E\",\"#277E8E\",\"#267F8E\",\"#26808E\",\"#26818E\",\"#25828E\",\"#25838D\",\"#24848D\",\"#24858D\",\"#24868D\",\"#23878D\",\"#23888D\",\"#23898D\",\"#22898D\",\"#228A8D\",\"#228B8D\",\"#218C8D\",\"#218D8C\",\"#218E8C\",\"#208F8C\",\"#20908C\",\"#20918C\",\"#1F928C\",\"#1F938B\",\"#1F948B\",\"#1F958B\",\"#1F968B\",\"#1E978A\",\"#1E988A\",\"#1E998A\",\"#1E998A\",\"#1E9A89\",\"#1E9B89\",\"#1E9C89\",\"#1E9D88\",\"#1E9E88\",\"#1E9F88\",\"#1EA087\",\"#1FA187\",\"#1FA286\",\"#1FA386\",\"#20A485\",\"#20A585\",\"#21A685\",\"#21A784\",\"#22A784\",\"#23A883\",\"#23A982\",\"#24AA82\",\"#25AB81\",\"#26AC81\",\"#27AD80\",\"#28AE7F\",\"#29AF7F\",\"#2AB07E\",\"#2BB17D\",\"#2CB17D\",\"#2EB27C\",\"#2FB37B\",\"#30B47A\",\"#32B57A\",\"#33B679\",\"#35B778\",\"#36B877\",\"#38B976\",\"#39B976\",\"#3BBA75\",\"#3DBB74\",\"#3EBC73\",\"#40BD72\",\"#42BE71\",\"#44BE70\",\"#45BF6F\",\"#47C06E\",\"#49C16D\",\"#4BC26C\",\"#4DC26B\",\"#4FC369\",\"#51C468\",\"#53C567\",\"#55C666\",\"#57C665\",\"#59C764\",\"#5BC862\",\"#5EC961\",\"#60C960\",\"#62CA5F\",\"#64CB5D\",\"#67CC5C\",\"#69CC5B\",\"#6BCD59\",\"#6DCE58\",\"#70CE56\",\"#72CF55\",\"#74D054\",\"#77D052\",\"#79D151\",\"#7CD24F\",\"#7ED24E\",\"#81D34C\",\"#83D34B\",\"#86D449\",\"#88D547\",\"#8BD546\",\"#8DD644\",\"#90D643\",\"#92D741\",\"#95D73F\",\"#97D83E\",\"#9AD83C\",\"#9DD93A\",\"#9FD938\",\"#A2DA37\",\"#A5DA35\",\"#A7DB33\",\"#AADB32\",\"#ADDC30\",\"#AFDC2E\",\"#B2DD2C\",\"#B5DD2B\",\"#B7DD29\",\"#BADE27\",\"#BDDE26\",\"#BFDF24\",\"#C2DF22\",\"#C5DF21\",\"#C7E01F\",\"#CAE01E\",\"#CDE01D\",\"#CFE11C\",\"#D2E11B\",\"#D4E11A\",\"#D7E219\",\"#DAE218\",\"#DCE218\",\"#DFE318\",\"#E1E318\",\"#E4E318\",\"#E7E419\",\"#E9E419\",\"#ECE41A\",\"#EEE51B\",\"#F1E51C\",\"#F3E51E\",\"#F6E61F\",\"#F8E621\",\"#FAE622\",\"#FDE724\"]},\"id\":\"3da52b74-87cd-4262-a086-73e385ca83fa\",\"type\":\"LinearColorMapper\"},{\"attributes\":{\"above\":[{\"id\":\"d0f4ba58-8620-47f2-ab1f-5ff6689cfe35\",\"type\":\"CategoricalAxis\"}],\"left\":[{\"id\":\"9f69f94d-640c-403a-b459-1010c7acdee2\",\"type\":\"CategoricalAxis\"}],\"renderers\":[{\"id\":\"d0f4ba58-8620-47f2-ab1f-5ff6689cfe35\",\"type\":\"CategoricalAxis\"},{\"id\":\"774829c5-5b02-45c3-94d6-71d231324ed0\",\"type\":\"Grid\"},{\"id\":\"9f69f94d-640c-403a-b459-1010c7acdee2\",\"type\":\"CategoricalAxis\"},{\"id\":\"67d5ced0-4e8e-428a-bee0-234e3d39c75c\",\"type\":\"Grid\"},{\"id\":\"5b6d828f-eb6e-4f0c-b14b-779cad59ff80\",\"type\":\"BoxAnnotation\"},{\"id\":\"70b1934b-6174-4ee2-8b1c-d99e6fbb96f2\",\"type\":\"GlyphRenderer\"}],\"title\":{\"id\":\"58a37fb8-4e56-4500-a00f-5a59ee5d07d1\",\"type\":\"Title\"},\"toolbar\":{\"id\":\"9e04c7e2-5062-4625-a6b8-94c4a26a97d3\",\"type\":\"Toolbar\"},\"x_range\":{\"id\":\"a0715fcb-ce17-48cb-9d87-92271307d76f\",\"type\":\"FactorRange\"},\"x_scale\":{\"id\":\"e1f36860-1a34-46f8-b64b-e47d1f0a2a94\",\"type\":\"CategoricalScale\"},\"y_range\":{\"id\":\"857700ac-b00e-4052-b01d-f57f7d59fd28\",\"type\":\"FactorRange\"},\"y_scale\":{\"id\":\"411ca756-9cb6-4420-90d1-918db7830805\",\"type\":\"CategoricalScale\"}},\"id\":\"b9b2f8a3-a584-4d9f-8080-12f837d9ba1a\",\"subtype\":\"Figure\",\"type\":\"Plot\"}],\"root_ids\":[\"b9b2f8a3-a584-4d9f-8080-12f837d9ba1a\"]},\"title\":\"Bokeh Application\",\"version\":\"0.12.10\"}};\n",
       "    var render_items = [{\"docid\":\"68f8b790-6390-425b-a585-86dc28fed4eb\",\"elementid\":\"487112c6-497d-462d-ac1f-4ec8374560c8\",\"modelid\":\"b9b2f8a3-a584-4d9f-8080-12f837d9ba1a\"}];\n",
       "\n",
       "    root.Bokeh.embed.embed_items(docs_json, render_items);\n",
       "  }\n",
       "\n",
       "  if (root.Bokeh !== undefined) {\n",
       "    embed_document(root);\n",
       "  } else {\n",
       "    var attempts = 0;\n",
       "    var timer = setInterval(function(root) {\n",
       "      if (root.Bokeh !== undefined) {\n",
       "        embed_document(root);\n",
       "        clearInterval(timer);\n",
       "      }\n",
       "      attempts++;\n",
       "      if (attempts > 100) {\n",
       "        console.log(\"Bokeh: ERROR: Unable to embed document because BokehJS library is missing\")\n",
       "        clearInterval(timer);\n",
       "      }\n",
       "    }, 10, root)\n",
       "  }\n",
       "})(window);"
      ],
      "application/vnd.bokehjs_exec.v0+json": ""
     },
     "metadata": {
      "application/vnd.bokehjs_exec.v0+json": {
       "id": "b9b2f8a3-a584-4d9f-8080-12f837d9ba1a"
      }
     },
     "output_type": "display_data"
    }
   ],
   "source": [
    "libG.plot_matrix(sorted_data)"
   ]
  },
  {
   "cell_type": "markdown",
   "metadata": {},
   "source": [
    "# Solve and approximate the travelling salesman problem"
   ]
  },
  {
   "cell_type": "code",
   "execution_count": 16,
   "metadata": {
    "ExecuteTime": {
     "end_time": "2018-03-02T10:05:27.262019Z",
     "start_time": "2018-03-02T10:05:27.245487Z"
    },
    "collapsed": true
   },
   "outputs": [],
   "source": [
    "tspdata = data[['sepal_width', 'sepal_length']]\n",
    "tspdata.columns = ['X', 'Y']"
   ]
  },
  {
   "cell_type": "code",
   "execution_count": 17,
   "metadata": {
    "ExecuteTime": {
     "end_time": "2018-03-02T10:05:27.854958Z",
     "start_time": "2018-03-02T10:05:27.849118Z"
    }
   },
   "outputs": [
    {
     "data": {
      "text/plain": [
       "[41, 107, 61, 122, 26, 62, 124, 67, 121, 39, 21, 89, 70, 32, 105]"
      ]
     },
     "execution_count": 17,
     "metadata": {},
     "output_type": "execute_result"
    }
   ],
   "source": [
    "cities = np.random.choice(range(len(data)), size=15, replace=False).tolist()\n",
    "cities"
   ]
  },
  {
   "cell_type": "code",
   "execution_count": 18,
   "metadata": {
    "ExecuteTime": {
     "end_time": "2018-03-02T10:05:34.061515Z",
     "start_time": "2018-03-02T10:05:34.000826Z"
    },
    "collapsed": true
   },
   "outputs": [],
   "source": [
    "def plot_path(data, cities, path, title='', color='r'):\n",
    "    fig, ax = pl.subplots(figsize=(7,7))\n",
    "    ax.set_title(title)\n",
    "    ax.scatter(data['X'], data['Y'], color='k', facecolor='none', alpha=0.4)\n",
    "    ax.scatter(data['X'].iloc[cities], data['Y'].iloc[cities], color='k', facecolor=color, alpha=0.4)\n",
    "    for i in range(len(path)-1):\n",
    "        start = path[i]\n",
    "        end = path[i+1]\n",
    "        segment = data.iloc[[cities[start], cities[end]]].values.T\n",
    "        ax.plot(segment[0], segment[1], color=color, alpha=0.4)\n",
    "    pl.show()\n",
    "    return fig"
   ]
  },
  {
   "cell_type": "code",
   "execution_count": 19,
   "metadata": {
    "ExecuteTime": {
     "end_time": "2018-03-02T10:05:41.333565Z",
     "start_time": "2018-03-02T10:05:39.521539Z"
    }
   },
   "outputs": [
    {
     "data": {
      "text/plain": [
       "[0, 11, 8, 7, 5, 1, 3, 14, 6, 2, 12, 13, 10, 9, 4, 0]"
      ]
     },
     "execution_count": 19,
     "metadata": {},
     "output_type": "execute_result"
    }
   ],
   "source": [
    "path1 = libG.solve_tsp(tspdata.iloc[cities])\n",
    "path1"
   ]
  },
  {
   "cell_type": "code",
   "execution_count": 20,
   "metadata": {
    "ExecuteTime": {
     "end_time": "2018-03-02T10:05:43.454682Z",
     "start_time": "2018-03-02T10:05:43.205004Z"
    }
   },
   "outputs": [
    {
     "data": {
      "image/png": "[encoded data removed]",
      "text/plain": [
       "<matplotlib.figure.Figure at 0x7f3041314cc0>"
      ]
     },
     "metadata": {},
     "output_type": "display_data"
    }
   ],
   "source": [
    "fig1 = plot_path(tspdata, cities, path1)"
   ]
  },
  {
   "cell_type": "code",
   "execution_count": 21,
   "metadata": {
    "ExecuteTime": {
     "end_time": "2018-03-02T10:05:48.750336Z",
     "start_time": "2018-03-02T10:05:47.896665Z"
    }
   },
   "outputs": [
    {
     "data": {
      "text/plain": [
       "[14, 3, 1, 6, 5, 11, 8, 7, 2, 12, 13, 10, 9, 4, 0, 14]"
      ]
     },
     "execution_count": 21,
     "metadata": {},
     "output_type": "execute_result"
    }
   ],
   "source": [
    "path2 = libG.approximate_tsp(tspdata.iloc[cities])\n",
    "path2"
   ]
  },
  {
   "cell_type": "code",
   "execution_count": 22,
   "metadata": {
    "ExecuteTime": {
     "end_time": "2018-03-02T10:05:49.700925Z",
     "start_time": "2018-03-02T10:05:49.425099Z"
    }
   },
   "outputs": [
    {
     "data": {
      "image/png": "[encoded data removed]",
      "text/plain": [
       "<matplotlib.figure.Figure at 0x7f3041251748>"
      ]
     },
     "metadata": {},
     "output_type": "display_data"
    }
   ],
   "source": [
    "fig2 = plot_path(tspdata, cities, path2)"
   ]
  },
  {
   "cell_type": "markdown",
   "metadata": {},
   "source": [
    "# Generate a random report"
   ]
  },
  {
   "cell_type": "code",
   "execution_count": 23,
   "metadata": {
    "ExecuteTime": {
     "end_time": "2018-03-02T10:06:12.209322Z",
     "start_time": "2018-03-02T10:06:12.202402Z"
    }
   },
   "outputs": [
    {
     "name": "stdout",
     "output_type": "stream",
     "text": [
      "The Zen of Python, by Tim Peters\n",
      "\n",
      "Beautiful is better than ugly.\n",
      "Explicit is better than implicit.\n",
      "Simple is better than complex.\n",
      "Complex is better than complicated.\n",
      "Flat is better than nested.\n",
      "Sparse is better than dense.\n",
      "Readability counts.\n",
      "Special cases aren't special enough to break the rules.\n",
      "Although practicality beats purity.\n",
      "Errors should never pass silently.\n",
      "Unless explicitly silenced.\n",
      "In the face of ambiguity, refuse the temptation to guess.\n",
      "There should be one-- and preferably only one --obvious way to do it.\n",
      "Although that way may not be obvious at first unless you're Dutch.\n",
      "Now is better than never.\n",
      "Although never is often better than *right* now.\n",
      "If the implementation is hard to explain, it's a bad idea.\n",
      "If the implementation is easy to explain, it may be a good idea.\n",
      "Namespaces are one honking great idea -- let's do more of those!\n"
     ]
    }
   ],
   "source": [
    "import this"
   ]
  },
  {
   "cell_type": "code",
   "execution_count": 24,
   "metadata": {
    "ExecuteTime": {
     "end_time": "2018-03-02T10:06:38.659067Z",
     "start_time": "2018-03-02T10:06:38.467064Z"
    },
    "collapsed": true
   },
   "outputs": [],
   "source": [
    "report = libG.Report('test.html')\n",
    "\n",
    "report.add_header('The Iris Dataset')\n",
    "report.add_text('... the first 10 entries')\n",
    "report.add_table(data.head(10))\n",
    "\n",
    "report.add_header('The Python Zen')\n",
    "report.add_header('Encrypted', level=2)\n",
    "report.add_text(this.s.replace('\\n', '<br />'))\n",
    "report.add_header('Decrypted', level=2)\n",
    "report.add_text(\"\".join([this.d.get(c, c) for c in this.s]).replace('\\n', '<br />'))\n",
    "\n",
    "report.add_header('TSP')\n",
    "report.add_text('coordinates of the 15 cities')\n",
    "report.add_table(tspdata.iloc[cities])\n",
    "report.add_header('Exactly solved via dynamic programming', level=2)\n",
    "report.add_image(fig1)\n",
    "report.add_header('Approximated via simulated annealing', level=2)\n",
    "report.add_image(fig2)\n",
    "\n",
    "report.export()\n",
    "report.show()"
   ]
  },
  {
   "cell_type": "code",
   "execution_count": null,
   "metadata": {
    "collapsed": true
   },
   "outputs": [],
   "source": []
  }
 ],
 "metadata": {
  "extensions": {
   "jupyter_dashboards": {
    "activeView": "grid_default",
    "version": 1,
    "views": {
     "grid_default": {
      "cellMargin": 10,
      "defaultCellHeight": 20,
      "maxColumns": 12,
      "name": "grid",
      "type": "grid"
     },
     "report_default": {
      "name": "report",
      "type": "report"
     }
    }
   }
  },
  "kernelspec": {
   "display_name": "Python 3",
   "language": "python",
   "name": "python3"
  },
  "language_info": {
   "codemirror_mode": {
    "name": "ipython",
    "version": 3
   },
   "file_extension": ".py",
   "mimetype": "text/x-python",
   "name": "python",
   "nbconvert_exporter": "python",
   "pygments_lexer": "ipython3",
   "version": "3.6.3"
  },
  "toc": {
   "nav_menu": {},
   "number_sections": true,
   "sideBar": true,
   "skip_h1_title": false,
   "toc_cell": false,
   "toc_position": {},
   "toc_section_display": "block",
   "toc_window_display": false
  },
  "varInspector": {
   "cols": {
    "lenName": 16,
    "lenType": 16,
    "lenVar": 40
   },
   "kernels_config": {
    "python": {
     "delete_cmd_postfix": "",
     "delete_cmd_prefix": "del ",
     "library": "var_list.py",
     "varRefreshCmd": "print(var_dic_list())"
    },
    "r": {
     "delete_cmd_postfix": ") ",
     "delete_cmd_prefix": "rm(",
     "library": "var_list.r",
     "varRefreshCmd": "cat(var_dic_list()) "
    }
   },
   "types_to_exclude": [
    "module",
    "function",
    "builtin_function_or_method",
    "instance",
    "_Feature"
   ],
   "window_display": false
  }
 },
 "nbformat": 4,
 "nbformat_minor": 2
}
